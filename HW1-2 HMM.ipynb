{
 "cells": [
  {
   "cell_type": "markdown",
   "metadata": {},
   "source": [
    "# task 2.1 Model\n",
    "Implement the model in C++ (allowed library for matrix computation: Eigen) or Python (allowed library for matrix computation: numpy)."
   ]
  },
  {
   "cell_type": "code",
   "execution_count": 70,
   "metadata": {},
   "outputs": [],
   "source": [
    "import numpy as np\n",
    "states = ['rainy', 'not_rainy'] #0= rainy 1=not_rainy\n",
    "observations = ('umbrella', 'no_umbrella') # 0=umbrella. 1 =no_umbrella\n",
    "pi =np.array( [0.5,0.5])\n",
    "A = np.array([[0.7, 0.3],[0.3, 0.7]]) #Transmission probability \n",
    "#B = np.array([[0.9, 0.2],[0.1, 0.8]]) #Emission probability\n",
    "O_true= np.array([[0.9, 0],[0, 0.2]])"
   ]
  },
  {
   "cell_type": "markdown",
   "metadata": {},
   "source": [
    "# task 2.2 Direct Sampling \n",
    "Implement in the chosen programming language direct sampling, as studied in class, and use it to sample at least 15 sequences of length 20.\n",
    "Note: store both the sequence of states and observations."
   ]
  },
  {
   "cell_type": "markdown",
   "metadata": {},
   "source": [
    "First, we generate random values for both R and U.\n",
    "\n",
    "\n",
    "if it is a first day, 0.5 is decision range, which means that if random value is less than 0,5, True is assigned; otherwise - False.\n",
    "\n",
    "\n",
    "For other days, we use P(R_t=true| R_(t-1)) as a decision range for assingning R_t, and P(U_t=true| R_t) for U_t"
   ]
  },
  {
   "cell_type": "code",
   "execution_count": 102,
   "metadata": {},
   "outputs": [],
   "source": [
    "def sampling(pi,Trans,Emis,num_seq,num_t):\n",
    "    R=np.zeros((num_seq, num_t),dtype='i') #R stores values for Rain\n",
    "    U=np.zeros((num_seq, num_t),dtype='i') \n",
    "    for sequence in range(num_seq):\n",
    "        rand_for_R=np.random.randint(100, size=num_t)/100 #randomly generate array with size num_t(20)\n",
    "        rand_for_U=np.random.randint(100, size=num_t)/100 # each element is less than 1 with 2 decimal places\n",
    "        \n",
    "        for t in range(num_t):\n",
    "            if t==0: #if it's 1st day, probabilities are [0.5 0.5]. \n",
    "                true_range_R= pi[0]\n",
    "            else:#otherwise, we look at the probabilities of the previous day(t-1)\n",
    "                if R[sequence][t-1]==0:#R_t-1=rainy\n",
    "                    true_range_R=Trans[0][0] #P(R_t|R_(t-1)\n",
    "                else:#R_t-1=not_rainy\n",
    "                    true_range_R=Trans[0][1]\n",
    "            if rand_for_R[t] < true_range_R:    \n",
    "                R[sequence][t]=0 #R_t=rainy\n",
    "            else:\n",
    "                R[sequence][t]=1 #R_t=not_rainy\n",
    "                #The same for observation\n",
    "            if R[sequence][t]==0: #if R_t=rainy, use P(U_t=true|R_t=true)<=>O_true[0][0]\n",
    "                true_range_U=Emis[0][0]\n",
    "            else:#if R_t=not_rainy, use P(U_t=true|R_t=false)<=>O_true[1][1]\n",
    "                true_range_U=Emis[1][1]\n",
    "            if rand_for_U[t] < true_range_U:              \n",
    "                U[sequence][t]=0 #U_t=umbrella\n",
    "            else:\n",
    "                U[sequence][t]=1\n",
    "    return R, U      "
   ]
  },
  {
   "cell_type": "code",
   "execution_count": 103,
   "metadata": {},
   "outputs": [
    {
     "name": "stdout",
     "output_type": "stream",
     "text": [
      "  rainy  =>  umbrella\n",
      "  rainy  =>  umbrella\n",
      "  not_rainy  =>  no_umbrella\n",
      "  not_rainy  =>  umbrella\n",
      "  not_rainy  =>  no_umbrella\n",
      "  not_rainy  =>  umbrella\n",
      "  not_rainy  =>  umbrella\n",
      "  not_rainy  =>  umbrella\n",
      "  rainy  =>  umbrella\n",
      "  rainy  =>  umbrella\n",
      "  not_rainy  =>  no_umbrella\n",
      "  rainy  =>  umbrella\n",
      "  not_rainy  =>  no_umbrella\n",
      "  rainy  =>  umbrella\n",
      "  not_rainy  =>  umbrella\n",
      "  rainy  =>  umbrella\n",
      "  not_rainy  =>  no_umbrella\n",
      "  rainy  =>  umbrella\n",
      "  not_rainy  =>  no_umbrella\n",
      "  rainy  =>  no_umbrella\n"
     ]
    }
   ],
   "source": [
    "num_t=20 #lenght of samples, 20 for this assignment \n",
    "num_seq=15 #number of sequences, min 15 for this assignment \n",
    "R,U=sampling(pi,A,O_true,num_seq,num_t)\n",
    "for i in range(num_t):\n",
    "    print(\" \", states[R[0][i]] ,\" => \",observations[U[0][i]])\n",
    "#print(\"Rain? :\",list(map(lambda y: states[y], R[0][:] ))   )\n",
    "#print(\"Umbrella? :\", list(map(lambda s: observations[s], U[0][:])))"
   ]
  },
  {
   "cell_type": "markdown",
   "metadata": {},
   "source": [
    "# task 2.3 Basic Forward-Backward Algorithm\n",
    "Implement in the chosen programming language the basic version of the\n",
    "forward-backward algorithm, as studied in class, and test it over one or more sequences that you generated.\n",
    "Note: verify how good your estimate of the state is using the state sequence stored in point 2."
   ]
  },
  {
   "cell_type": "code",
   "execution_count": null,
   "metadata": {},
   "outputs": [],
   "source": []
  },
  {
   "cell_type": "code",
   "execution_count": 104,
   "metadata": {},
   "outputs": [],
   "source": [
    "def normalize(prob):\n",
    "    return [prob[i]/sum(prob) for i in range(len(prob))]   \n",
    "\n",
    "def forward(Observers, T, O_true, pi):\n",
    "    f=np.zeros((len(Observers)+1, 2 ),dtype='f')\n",
    "    f[0][:]=pi\n",
    "    O_false=np.eye(2, dtype=int)-O_true # P(U_t=false|R_t)\n",
    "    for t in range(len(Observers)):\n",
    "        if Observers[t]==1:\n",
    "            O=O_false\n",
    "        else:\n",
    "            O=O_true\n",
    "        f[t+1]=normalize(np.matmul(np.matmul(O,T),f[t])) #f_(t+1)=<(O*T)*f_t>\n",
    "    return f\n",
    "\n",
    "def backward(Observers, T, O_true, pi):\n",
    "    b=np.zeros((len(Observers)+1, 2 ),dtype='f')\n",
    "    b[len(Observers)][:]=[1,1]\n",
    "    O_false=np.eye(2, dtype=int)-O_true\n",
    "    for t in range(len(Observers),0,-1):\n",
    "        if Observers[t-1]==1:\n",
    "            O=O_false\n",
    "        else:\n",
    "            O=O_true\n",
    "        b[t-1]=normalize(np.matmul(np.matmul(T,O),b[t]))\n",
    "    return b"
   ]
  },
  {
   "cell_type": "code",
   "execution_count": 136,
   "metadata": {},
   "outputs": [],
   "source": [
    "def forward_backward(Observers, T, O_true, pi):\n",
    "    alpha = forward(Observers, T, O_true, pi)\n",
    "    beta  = backward(Observers, T, O_true, pi) \n",
    "    final=np.zeros((len(Observers)+1, 2 ),dtype='f')\n",
    "   \n",
    "    for t in range(len(Observers)+1) :\n",
    "        final[t] =normalize(np.multiply(alpha[t],beta[t]))\n",
    "        #print(\"alpha \",alpha[t],\" beta \", beta[t],\" multip \", np.argmax(final[t]))\n",
    "    return final"
   ]
  },
  {
   "cell_type": "code",
   "execution_count": 137,
   "metadata": {},
   "outputs": [
    {
     "name": "stdout",
     "output_type": "stream",
     "text": [
      "[[0.6469356  0.35306445]\n",
      " [0.8673389  0.13266112]\n",
      " [0.8204191  0.17958096]\n",
      " [0.30748355 0.69251645]\n",
      " [0.8204191  0.17958093]\n",
      " [0.8673389  0.1326611 ]]\n"
     ]
    }
   ],
   "source": [
    "Obs=[0,0,1,0,0]\n",
    "#print(forward_backward(U[0], A, O_true, pi))\n",
    "print(forward_backward(Obs, A, O_true, pi))"
   ]
  },
  {
   "cell_type": "markdown",
   "metadata": {},
   "source": [
    " [bonus task]Improvementing space complexity by propagating backward the forward message"
   ]
  },
  {
   "cell_type": "code",
   "execution_count": 138,
   "metadata": {},
   "outputs": [],
   "source": [
    "def forward1(Observers, T, O_true, pi):\n",
    "    f=pi\n",
    "    O_false=np.eye(2, dtype=int)-O_true # P(U_t=false|R_t)\n",
    "    for t in range(len(Observers)):\n",
    "        if Observers[t]==1:\n",
    "            O=O_false\n",
    "        else:\n",
    "            O=O_true\n",
    "        f=normalize(np.matmul(np.matmul(O,T),f)) #f_(t+1)=<(O*T)*f_t>\n",
    "    return f\n",
    "\n",
    "def backward1(f1, Observers, T, O_true, pi):\n",
    "    b=np.zeros((len(Observers)+1, 2 ),dtype='f')\n",
    "    f=np.zeros((len(Observers)+1, 2 ),dtype='f')\n",
    "    b[len(Observers)][:]=[1,1] \n",
    "    f[len(Observers)][:]=f1\n",
    "    O_false=np.eye(2, dtype=int)-O_true\n",
    "    for t in range(len(Observers),0,-1):\n",
    "        if Observers[t-1]==1:\n",
    "            O=O_false\n",
    "        else:\n",
    "            O=O_true\n",
    "        O_inv=np.linalg.inv(O)\n",
    "        T_inv=np.linalg.inv(T)\n",
    "        f[t-1]=normalize(np.matmul(np.matmul(T_inv,O_inv),f[t]))\n",
    "        b[t-1]=normalize(np.matmul(np.matmul(T,O),b[t]))\n",
    "        \n",
    "    return f,b"
   ]
  },
  {
   "cell_type": "code",
   "execution_count": 139,
   "metadata": {},
   "outputs": [],
   "source": [
    "def forward_backward_impr1(Observers, T, O_true, pi):\n",
    "    f = forward1(Observers, T, O_true, pi)\n",
    "    alpha,beta  = backward1(f,Observers, T, O_true, pi)\n",
    "    final=np.zeros((len(Observers)+1, 2 ),dtype='f')\n",
    "    for t in range(len(Observers)+1) :\n",
    "        final[t] =normalize(np.multiply(alpha[t],beta[t]))\n",
    "        #print(\"alpha \",alpha[t],\" beta \", beta[t],\" multip \", np.argmax(final[t]))\n",
    "    return final"
   ]
  },
  {
   "cell_type": "code",
   "execution_count": 140,
   "metadata": {},
   "outputs": [
    {
     "name": "stdout",
     "output_type": "stream",
     "text": [
      "[[0.6469432  0.3530568 ]\n",
      " [0.86734045 0.13265955]\n",
      " [0.82041955 0.17958045]\n",
      " [0.3074837  0.69251627]\n",
      " [0.8204191  0.17958093]\n",
      " [0.8673389  0.1326611 ]]\n"
     ]
    }
   ],
   "source": [
    "Obs=[0,0,1,0,0]\n",
    "#print(forward_backward_impr1(U[0], A, O_true, pi))\n",
    "print(forward_backward_impr1(Obs, A, O_true, pi))"
   ]
  },
  {
   "cell_type": "code",
   "execution_count": null,
   "metadata": {},
   "outputs": [],
   "source": []
  },
  {
   "cell_type": "code",
   "execution_count": null,
   "metadata": {},
   "outputs": [],
   "source": []
  }
 ],
 "metadata": {
  "kernelspec": {
   "display_name": "Python 3",
   "language": "python",
   "name": "python3"
  },
  "language_info": {
   "codemirror_mode": {
    "name": "ipython",
    "version": 3
   },
   "file_extension": ".py",
   "mimetype": "text/x-python",
   "name": "python",
   "nbconvert_exporter": "python",
   "pygments_lexer": "ipython3",
   "version": "3.7.1"
  }
 },
 "nbformat": 4,
 "nbformat_minor": 2
}
